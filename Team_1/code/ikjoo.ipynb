{
 "cells": [
  {
   "cell_type": "code",
   "execution_count": 26,
   "id": "f542d5aa06aa264b",
   "metadata": {
    "ExecuteTime": {
     "end_time": "2024-10-12T21:08:52.640596Z",
     "start_time": "2024-10-12T21:08:52.635666Z"
    }
   },
   "outputs": [],
   "source": [
    "import pandas as pd\n",
    "import seaborn as sns\n",
    "import matplotlib.pyplot as plt\n",
    "import matplotlib as mpl\n",
    "import numpy as np\n",
    "from sklearn.preprocessing import StandardScaler\n",
    "\n",
    "%matplotlib inline"
   ]
  },
  {
   "cell_type": "code",
   "execution_count": 2,
   "id": "4d6e7245a0e2681f",
   "metadata": {
    "ExecuteTime": {
     "end_time": "2024-10-12T21:08:53.092033Z",
     "start_time": "2024-10-12T21:08:53.090433Z"
    }
   },
   "outputs": [],
   "source": [
    "data_path = \"../data/Customer-Churn-Records.csv\""
   ]
  },
  {
   "cell_type": "code",
   "execution_count": 3,
   "id": "f01734ab6a8383db",
   "metadata": {
    "ExecuteTime": {
     "end_time": "2024-10-12T21:08:53.507306Z",
     "start_time": "2024-10-12T21:08:53.495783Z"
    }
   },
   "outputs": [],
   "source": [
    "data = pd.read_csv(data_path)"
   ]
  },
  {
   "cell_type": "code",
   "execution_count": 4,
   "id": "58b4a07c8c29f21b",
   "metadata": {
    "ExecuteTime": {
     "end_time": "2024-10-12T21:08:53.824078Z",
     "start_time": "2024-10-12T21:08:53.814492Z"
    }
   },
   "outputs": [
    {
     "data": {
      "text/html": [
       "<div>\n",
       "<style scoped>\n",
       "    .dataframe tbody tr th:only-of-type {\n",
       "        vertical-align: middle;\n",
       "    }\n",
       "\n",
       "    .dataframe tbody tr th {\n",
       "        vertical-align: top;\n",
       "    }\n",
       "\n",
       "    .dataframe thead th {\n",
       "        text-align: right;\n",
       "    }\n",
       "</style>\n",
       "<table border=\"1\" class=\"dataframe\">\n",
       "  <thead>\n",
       "    <tr style=\"text-align: right;\">\n",
       "      <th></th>\n",
       "      <th>RowNumber</th>\n",
       "      <th>CustomerId</th>\n",
       "      <th>Surname</th>\n",
       "      <th>CreditScore</th>\n",
       "      <th>Geography</th>\n",
       "      <th>Gender</th>\n",
       "      <th>Age</th>\n",
       "      <th>Tenure</th>\n",
       "      <th>Balance</th>\n",
       "      <th>NumOfProducts</th>\n",
       "      <th>HasCrCard</th>\n",
       "      <th>IsActiveMember</th>\n",
       "      <th>EstimatedSalary</th>\n",
       "      <th>Exited</th>\n",
       "      <th>Complain</th>\n",
       "      <th>Satisfaction Score</th>\n",
       "      <th>Card Type</th>\n",
       "      <th>Point Earned</th>\n",
       "    </tr>\n",
       "  </thead>\n",
       "  <tbody>\n",
       "    <tr>\n",
       "      <th>0</th>\n",
       "      <td>1</td>\n",
       "      <td>15634602</td>\n",
       "      <td>Hargrave</td>\n",
       "      <td>619</td>\n",
       "      <td>France</td>\n",
       "      <td>Female</td>\n",
       "      <td>42</td>\n",
       "      <td>2</td>\n",
       "      <td>0.00</td>\n",
       "      <td>1</td>\n",
       "      <td>1</td>\n",
       "      <td>1</td>\n",
       "      <td>101348.88</td>\n",
       "      <td>1</td>\n",
       "      <td>1</td>\n",
       "      <td>2</td>\n",
       "      <td>DIAMOND</td>\n",
       "      <td>464</td>\n",
       "    </tr>\n",
       "    <tr>\n",
       "      <th>1</th>\n",
       "      <td>2</td>\n",
       "      <td>15647311</td>\n",
       "      <td>Hill</td>\n",
       "      <td>608</td>\n",
       "      <td>Spain</td>\n",
       "      <td>Female</td>\n",
       "      <td>41</td>\n",
       "      <td>1</td>\n",
       "      <td>83807.86</td>\n",
       "      <td>1</td>\n",
       "      <td>0</td>\n",
       "      <td>1</td>\n",
       "      <td>112542.58</td>\n",
       "      <td>0</td>\n",
       "      <td>1</td>\n",
       "      <td>3</td>\n",
       "      <td>DIAMOND</td>\n",
       "      <td>456</td>\n",
       "    </tr>\n",
       "    <tr>\n",
       "      <th>2</th>\n",
       "      <td>3</td>\n",
       "      <td>15619304</td>\n",
       "      <td>Onio</td>\n",
       "      <td>502</td>\n",
       "      <td>France</td>\n",
       "      <td>Female</td>\n",
       "      <td>42</td>\n",
       "      <td>8</td>\n",
       "      <td>159660.80</td>\n",
       "      <td>3</td>\n",
       "      <td>1</td>\n",
       "      <td>0</td>\n",
       "      <td>113931.57</td>\n",
       "      <td>1</td>\n",
       "      <td>1</td>\n",
       "      <td>3</td>\n",
       "      <td>DIAMOND</td>\n",
       "      <td>377</td>\n",
       "    </tr>\n",
       "    <tr>\n",
       "      <th>3</th>\n",
       "      <td>4</td>\n",
       "      <td>15701354</td>\n",
       "      <td>Boni</td>\n",
       "      <td>699</td>\n",
       "      <td>France</td>\n",
       "      <td>Female</td>\n",
       "      <td>39</td>\n",
       "      <td>1</td>\n",
       "      <td>0.00</td>\n",
       "      <td>2</td>\n",
       "      <td>0</td>\n",
       "      <td>0</td>\n",
       "      <td>93826.63</td>\n",
       "      <td>0</td>\n",
       "      <td>0</td>\n",
       "      <td>5</td>\n",
       "      <td>GOLD</td>\n",
       "      <td>350</td>\n",
       "    </tr>\n",
       "    <tr>\n",
       "      <th>4</th>\n",
       "      <td>5</td>\n",
       "      <td>15737888</td>\n",
       "      <td>Mitchell</td>\n",
       "      <td>850</td>\n",
       "      <td>Spain</td>\n",
       "      <td>Female</td>\n",
       "      <td>43</td>\n",
       "      <td>2</td>\n",
       "      <td>125510.82</td>\n",
       "      <td>1</td>\n",
       "      <td>1</td>\n",
       "      <td>1</td>\n",
       "      <td>79084.10</td>\n",
       "      <td>0</td>\n",
       "      <td>0</td>\n",
       "      <td>5</td>\n",
       "      <td>GOLD</td>\n",
       "      <td>425</td>\n",
       "    </tr>\n",
       "  </tbody>\n",
       "</table>\n",
       "</div>"
      ],
      "text/plain": [
       "   RowNumber  CustomerId   Surname  CreditScore Geography  Gender  Age  \\\n",
       "0          1    15634602  Hargrave          619    France  Female   42   \n",
       "1          2    15647311      Hill          608     Spain  Female   41   \n",
       "2          3    15619304      Onio          502    France  Female   42   \n",
       "3          4    15701354      Boni          699    France  Female   39   \n",
       "4          5    15737888  Mitchell          850     Spain  Female   43   \n",
       "\n",
       "   Tenure    Balance  NumOfProducts  HasCrCard  IsActiveMember  \\\n",
       "0       2       0.00              1          1               1   \n",
       "1       1   83807.86              1          0               1   \n",
       "2       8  159660.80              3          1               0   \n",
       "3       1       0.00              2          0               0   \n",
       "4       2  125510.82              1          1               1   \n",
       "\n",
       "   EstimatedSalary  Exited  Complain  Satisfaction Score Card Type  \\\n",
       "0        101348.88       1         1                   2   DIAMOND   \n",
       "1        112542.58       0         1                   3   DIAMOND   \n",
       "2        113931.57       1         1                   3   DIAMOND   \n",
       "3         93826.63       0         0                   5      GOLD   \n",
       "4         79084.10       0         0                   5      GOLD   \n",
       "\n",
       "   Point Earned  \n",
       "0           464  \n",
       "1           456  \n",
       "2           377  \n",
       "3           350  \n",
       "4           425  "
      ]
     },
     "execution_count": 4,
     "metadata": {},
     "output_type": "execute_result"
    }
   ],
   "source": [
    "data.head()"
   ]
  },
  {
   "cell_type": "code",
   "execution_count": 5,
   "id": "8a87c940eec3eb05",
   "metadata": {
    "ExecuteTime": {
     "end_time": "2024-10-12T21:08:54.064883Z",
     "start_time": "2024-10-12T21:08:54.061739Z"
    }
   },
   "outputs": [],
   "source": [
    "data.drop(['RowNumber', 'Surname', 'CustomerId'], axis = 1, inplace = True)"
   ]
  },
  {
   "cell_type": "code",
   "execution_count": 6,
   "id": "70a3032282f8b2fa",
   "metadata": {
    "ExecuteTime": {
     "end_time": "2024-10-12T21:11:55.619717Z",
     "start_time": "2024-10-12T21:11:55.615974Z"
    }
   },
   "outputs": [],
   "source": [
    "def resumetable(df):    \n",
    "    print(f'data shape: {df.shape}')\n",
    "    summary = pd.DataFrame(df.dtypes, columns = ['data type'])\n",
    "    summary = summary.reset_index()\n",
    "    summary = summary.rename(columns = {'index': 'feature'})\n",
    "    summary['num_NaN'] = df.isnull().sum().values\n",
    "    summary['num_unique'] = df.nunique().values\n",
    "    summary['first_value'] = df.iloc[0].values\n",
    "    summary['second_value'] = df.iloc[1].values\n",
    "    return summary"
   ]
  },
  {
   "cell_type": "code",
   "execution_count": 7,
   "id": "ebd97a4263ac06c9",
   "metadata": {
    "ExecuteTime": {
     "end_time": "2024-10-12T21:11:56.416544Z",
     "start_time": "2024-10-12T21:11:56.403604Z"
    }
   },
   "outputs": [
    {
     "name": "stdout",
     "output_type": "stream",
     "text": [
      "data shape: (10000, 15)\n"
     ]
    },
    {
     "data": {
      "text/html": [
       "<div>\n",
       "<style scoped>\n",
       "    .dataframe tbody tr th:only-of-type {\n",
       "        vertical-align: middle;\n",
       "    }\n",
       "\n",
       "    .dataframe tbody tr th {\n",
       "        vertical-align: top;\n",
       "    }\n",
       "\n",
       "    .dataframe thead th {\n",
       "        text-align: right;\n",
       "    }\n",
       "</style>\n",
       "<table border=\"1\" class=\"dataframe\">\n",
       "  <thead>\n",
       "    <tr style=\"text-align: right;\">\n",
       "      <th></th>\n",
       "      <th>feature</th>\n",
       "      <th>data type</th>\n",
       "      <th>num_NaN</th>\n",
       "      <th>num_unique</th>\n",
       "      <th>first_value</th>\n",
       "      <th>second_value</th>\n",
       "    </tr>\n",
       "  </thead>\n",
       "  <tbody>\n",
       "    <tr>\n",
       "      <th>0</th>\n",
       "      <td>CreditScore</td>\n",
       "      <td>int64</td>\n",
       "      <td>0</td>\n",
       "      <td>460</td>\n",
       "      <td>619</td>\n",
       "      <td>608</td>\n",
       "    </tr>\n",
       "    <tr>\n",
       "      <th>1</th>\n",
       "      <td>Geography</td>\n",
       "      <td>object</td>\n",
       "      <td>0</td>\n",
       "      <td>3</td>\n",
       "      <td>France</td>\n",
       "      <td>Spain</td>\n",
       "    </tr>\n",
       "    <tr>\n",
       "      <th>2</th>\n",
       "      <td>Gender</td>\n",
       "      <td>object</td>\n",
       "      <td>0</td>\n",
       "      <td>2</td>\n",
       "      <td>Female</td>\n",
       "      <td>Female</td>\n",
       "    </tr>\n",
       "    <tr>\n",
       "      <th>3</th>\n",
       "      <td>Age</td>\n",
       "      <td>int64</td>\n",
       "      <td>0</td>\n",
       "      <td>70</td>\n",
       "      <td>42</td>\n",
       "      <td>41</td>\n",
       "    </tr>\n",
       "    <tr>\n",
       "      <th>4</th>\n",
       "      <td>Tenure</td>\n",
       "      <td>int64</td>\n",
       "      <td>0</td>\n",
       "      <td>11</td>\n",
       "      <td>2</td>\n",
       "      <td>1</td>\n",
       "    </tr>\n",
       "    <tr>\n",
       "      <th>5</th>\n",
       "      <td>Balance</td>\n",
       "      <td>float64</td>\n",
       "      <td>0</td>\n",
       "      <td>6382</td>\n",
       "      <td>0.0</td>\n",
       "      <td>83807.86</td>\n",
       "    </tr>\n",
       "    <tr>\n",
       "      <th>6</th>\n",
       "      <td>NumOfProducts</td>\n",
       "      <td>int64</td>\n",
       "      <td>0</td>\n",
       "      <td>4</td>\n",
       "      <td>1</td>\n",
       "      <td>1</td>\n",
       "    </tr>\n",
       "    <tr>\n",
       "      <th>7</th>\n",
       "      <td>HasCrCard</td>\n",
       "      <td>int64</td>\n",
       "      <td>0</td>\n",
       "      <td>2</td>\n",
       "      <td>1</td>\n",
       "      <td>0</td>\n",
       "    </tr>\n",
       "    <tr>\n",
       "      <th>8</th>\n",
       "      <td>IsActiveMember</td>\n",
       "      <td>int64</td>\n",
       "      <td>0</td>\n",
       "      <td>2</td>\n",
       "      <td>1</td>\n",
       "      <td>1</td>\n",
       "    </tr>\n",
       "    <tr>\n",
       "      <th>9</th>\n",
       "      <td>EstimatedSalary</td>\n",
       "      <td>float64</td>\n",
       "      <td>0</td>\n",
       "      <td>9999</td>\n",
       "      <td>101348.88</td>\n",
       "      <td>112542.58</td>\n",
       "    </tr>\n",
       "    <tr>\n",
       "      <th>10</th>\n",
       "      <td>Exited</td>\n",
       "      <td>int64</td>\n",
       "      <td>0</td>\n",
       "      <td>2</td>\n",
       "      <td>1</td>\n",
       "      <td>0</td>\n",
       "    </tr>\n",
       "    <tr>\n",
       "      <th>11</th>\n",
       "      <td>Complain</td>\n",
       "      <td>int64</td>\n",
       "      <td>0</td>\n",
       "      <td>2</td>\n",
       "      <td>1</td>\n",
       "      <td>1</td>\n",
       "    </tr>\n",
       "    <tr>\n",
       "      <th>12</th>\n",
       "      <td>Satisfaction Score</td>\n",
       "      <td>int64</td>\n",
       "      <td>0</td>\n",
       "      <td>5</td>\n",
       "      <td>2</td>\n",
       "      <td>3</td>\n",
       "    </tr>\n",
       "    <tr>\n",
       "      <th>13</th>\n",
       "      <td>Card Type</td>\n",
       "      <td>object</td>\n",
       "      <td>0</td>\n",
       "      <td>4</td>\n",
       "      <td>DIAMOND</td>\n",
       "      <td>DIAMOND</td>\n",
       "    </tr>\n",
       "    <tr>\n",
       "      <th>14</th>\n",
       "      <td>Point Earned</td>\n",
       "      <td>int64</td>\n",
       "      <td>0</td>\n",
       "      <td>785</td>\n",
       "      <td>464</td>\n",
       "      <td>456</td>\n",
       "    </tr>\n",
       "  </tbody>\n",
       "</table>\n",
       "</div>"
      ],
      "text/plain": [
       "               feature data type  num_NaN  num_unique first_value second_value\n",
       "0          CreditScore     int64        0         460         619          608\n",
       "1            Geography    object        0           3      France        Spain\n",
       "2               Gender    object        0           2      Female       Female\n",
       "3                  Age     int64        0          70          42           41\n",
       "4               Tenure     int64        0          11           2            1\n",
       "5              Balance   float64        0        6382         0.0     83807.86\n",
       "6        NumOfProducts     int64        0           4           1            1\n",
       "7            HasCrCard     int64        0           2           1            0\n",
       "8       IsActiveMember     int64        0           2           1            1\n",
       "9      EstimatedSalary   float64        0        9999   101348.88    112542.58\n",
       "10              Exited     int64        0           2           1            0\n",
       "11            Complain     int64        0           2           1            1\n",
       "12  Satisfaction Score     int64        0           5           2            3\n",
       "13           Card Type    object        0           4     DIAMOND      DIAMOND\n",
       "14        Point Earned     int64        0         785         464          456"
      ]
     },
     "execution_count": 7,
     "metadata": {},
     "output_type": "execute_result"
    }
   ],
   "source": [
    "resumetable(data)"
   ]
  },
  {
   "cell_type": "markdown",
   "id": "98e3a8bf725d67e2",
   "metadata": {},
   "source": [
    "We can conclude that this dataset does not include any missing values. Additionally, we identified some categorical variables (Geography, Gender, Tenure, NumberOfProducts, HasCrCard, IsActiveMember). We also need to simplify the column names for easier recognition"
   ]
  },
  {
   "cell_type": "code",
   "execution_count": 8,
   "id": "7eabd4787708e028",
   "metadata": {
    "ExecuteTime": {
     "end_time": "2024-10-12T21:08:59.850377Z",
     "start_time": "2024-10-12T21:08:59.797016Z"
    }
   },
   "outputs": [
    {
     "name": "stderr",
     "output_type": "stream",
     "text": [
      "C:\\Users\\ikjoo\\anaconda3\\Lib\\site-packages\\seaborn\\_oldcore.py:1119: FutureWarning: use_inf_as_na option is deprecated and will be removed in a future version. Convert inf values to NaN before operating instead.\n",
      "  with pd.option_context('mode.use_inf_as_na', True):\n"
     ]
    },
    {
     "data": {
      "image/png": "[encoded data removed]",
      "text/plain": [
       "<Figure size 640x480 with 1 Axes>"
      ]
     },
     "metadata": {},
     "output_type": "display_data"
    }
   ],
   "source": [
    "sns.histplot(data['Exited']);"
   ]
  },
  {
   "cell_type": "code",
   "execution_count": 9,
   "id": "4f0666414b8ac4f7",
   "metadata": {
    "ExecuteTime": {
     "end_time": "2024-10-12T21:09:32.247208Z",
     "start_time": "2024-10-12T21:09:32.244402Z"
    }
   },
   "outputs": [
    {
     "data": {
      "text/plain": [
       "Exited\n",
       "0    7962\n",
       "1    2038\n",
       "Name: count, dtype: int64"
      ]
     },
     "execution_count": 9,
     "metadata": {},
     "output_type": "execute_result"
    }
   ],
   "source": [
    "data['Exited'].value_counts()"
   ]
  },
  {
   "cell_type": "markdown",
   "id": "b1223a170fa02190",
   "metadata": {},
   "source": [
    "We have a binary outcome here: 1 indicates that the customer left the bank, while 0 means the customer did not. The results suggest that the number of customers who left the bank is four times greater than the number of customers who did not churn based on this dataset."
   ]
  },
  {
   "cell_type": "code",
   "execution_count": 17,
   "id": "9f39ac0b3915a1fb",
   "metadata": {},
   "outputs": [
    {
     "data": {
      "image/png": "[encoded data removed]",
      "text/plain": [
       "<Figure size 3000x2500 with 2 Axes>"
      ]
     },
     "metadata": {},
     "output_type": "display_data"
    }
   ],
   "source": [
    "# Numeric columns\n",
    "numeric_data = data.select_dtypes(include=[np.number])\n",
    "\n",
    "# correlation\n",
    "corr = numeric_data.corr().round(2)\n",
    "\n",
    "plt.figure(figsize=(30, 25)) \n",
    "sns.heatmap(corr,annot=True,  linewidths=1, linecolor='black')\n",
    "plt.show()\n"
   ]
  },
  {
   "cell_type": "markdown",
   "id": "2e7874f2-e7be-4d55-b376-a3382556e3c4",
   "metadata": {},
   "source": [
    "#### OneHot Label Encoding"
   ]
  },
  {
   "cell_type": "code",
   "execution_count": 31,
   "id": "185f6626-7215-447b-8579-cc6eb50246b9",
   "metadata": {},
   "outputs": [
    {
     "name": "stdout",
     "output_type": "stream",
     "text": [
      "   CreditScore  Age  Tenure    Balance  NumOfProducts  HasCrCard  \\\n",
      "0          619   42       2       0.00              1          1   \n",
      "1          608   41       1   83807.86              1          0   \n",
      "2          502   42       8  159660.80              3          1   \n",
      "3          699   39       1       0.00              2          0   \n",
      "4          850   43       2  125510.82              1          1   \n",
      "\n",
      "   IsActiveMember  EstimatedSalary  Exited  Complain  ...  Point Earned  \\\n",
      "0               1        101348.88       1         1  ...           464   \n",
      "1               1        112542.58       0         1  ...           456   \n",
      "2               0        113931.57       1         1  ...           377   \n",
      "3               0         93826.63       0         0  ...           350   \n",
      "4               1         79084.10       0         0  ...           425   \n",
      "\n",
      "   Gender_Female  Gender_Male  Geography_France  Geography_Germany  \\\n",
      "0              1            0                 1                  0   \n",
      "1              1            0                 0                  0   \n",
      "2              1            0                 1                  0   \n",
      "3              1            0                 1                  0   \n",
      "4              1            0                 0                  0   \n",
      "\n",
      "   Geography_Spain  Card Type_DIAMOND  Card Type_GOLD  Card Type_PLATINUM  \\\n",
      "0                0                  1               0                   0   \n",
      "1                1                  1               0                   0   \n",
      "2                0                  1               0                   0   \n",
      "3                0                  0               1                   0   \n",
      "4                1                  0               1                   0   \n",
      "\n",
      "   Card Type_SILVER  \n",
      "0                 0  \n",
      "1                 0  \n",
      "2                 0  \n",
      "3                 0  \n",
      "4                 0  \n",
      "\n",
      "[5 rows x 21 columns]\n"
     ]
    }
   ],
   "source": [
    "# 3 Object type exist: Gender, Geography, Card Type\n",
    "columns_encode = ['Gender', 'Geography', 'Card Type']\n",
    "encoded_df = pd.get_dummies(data, columns=columns_encode, dtype = int)\n",
    "\n",
    "print(encoded_df.head())"
   ]
  },
  {
   "cell_type": "markdown",
   "id": "b466060d-1a50-4f65-b4ad-07281d99e2c3",
   "metadata": {},
   "source": [
    "#### Standard Scaling"
   ]
  },
  {
   "cell_type": "code",
   "execution_count": 24,
   "id": "1216c0ac-a41c-4018-8cdd-2a2fde38862a",
   "metadata": {},
   "outputs": [],
   "source": [
    "# Separating \"Exited\"(Target variable) from feature variables\n",
    "\n",
    "X = encoded_df.drop('Exited', axis = 1).values\n",
    "X = X.values\n",
    "y = encoded_df['Exited']"
   ]
  },
  {
   "cell_type": "code",
   "execution_count": 25,
   "id": "1d4017fa-7c4f-4e40-98ca-9626fcd3ecf6",
   "metadata": {},
   "outputs": [
    {
     "data": {
      "text/plain": [
       "array([[619, 42, 2, ..., False, False, False],\n",
       "       [608, 41, 1, ..., False, False, False],\n",
       "       [502, 42, 8, ..., False, False, False],\n",
       "       ...,\n",
       "       [709, 36, 7, ..., False, False, True],\n",
       "       [772, 42, 3, ..., True, False, False],\n",
       "       [792, 28, 4, ..., False, False, False]], dtype=object)"
      ]
     },
     "execution_count": 25,
     "metadata": {},
     "output_type": "execute_result"
    }
   ],
   "source": [
    "X"
   ]
  },
  {
   "cell_type": "code",
   "execution_count": 29,
   "id": "bd02e199-55da-4171-936d-3d4c5b0bdf45",
   "metadata": {},
   "outputs": [
    {
     "data": {
      "text/plain": [
       "array([[-0.32622142,  0.29351742, -1.04175968, ..., -0.57765819,\n",
       "        -0.57658047, -0.57673443],\n",
       "       [-0.44003595,  0.19816383, -1.38753759, ..., -0.57765819,\n",
       "        -0.57658047, -0.57673443],\n",
       "       [-1.53679418,  0.29351742,  1.03290776, ..., -0.57765819,\n",
       "        -0.57658047, -0.57673443],\n",
       "       ...,\n",
       "       [ 0.60498839, -0.27860412,  0.68712986, ..., -0.57765819,\n",
       "        -0.57658047,  1.7339003 ],\n",
       "       [ 1.25683526,  0.29351742, -0.69598177, ...,  1.73112754,\n",
       "        -0.57658047, -0.57673443],\n",
       "       [ 1.46377078, -1.04143285, -0.35020386, ..., -0.57765819,\n",
       "        -0.57658047, -0.57673443]])"
      ]
     },
     "execution_count": 29,
     "metadata": {},
     "output_type": "execute_result"
    }
   ],
   "source": [
    "sc = StandardScaler()\n",
    "X_standard = sc.fit_transform(X)\n",
    "X_standard"
   ]
  }
 ],
 "metadata": {
  "kernelspec": {
   "display_name": "Python 3 (ipykernel)",
   "language": "python",
   "name": "python3"
  },
  "language_info": {
   "codemirror_mode": {
    "name": "ipython",
    "version": 3
   },
   "file_extension": ".py",
   "mimetype": "text/x-python",
   "name": "python",
   "nbconvert_exporter": "python",
   "pygments_lexer": "ipython3",
   "version": "3.11.7"
  }
 },
 "nbformat": 4,
 "nbformat_minor": 5
}
